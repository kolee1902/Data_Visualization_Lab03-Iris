{
 "cells": [
  {
   "cell_type": "markdown",
   "id": "5962f20c-37d6-420e-815e-b730a2e85159",
   "metadata": {},
   "source": [
    "<div style=\"text-align: left; background-color:#CFD9F1; font-family: Trebuchet MS; color:#0A3399; padding: 12px; line-height:1.25;border-radius:1px; margin-bottom: 0em; text-align: center; font-size: 58px;border-style: solid;border-color: dark green;\">Lab03: Iris</div>"
   ]
  },
  {
   "cell_type": "markdown",
   "id": "9893d15e-fb0f-4203-9c69-3524545caca3",
   "metadata": {},
   "source": [
    "<img src=\"Iris.jpg\" alt=\"Iris\">\r\n"
   ]
  },
  {
   "cell_type": "code",
   "execution_count": 1,
   "id": "4562631e-9628-4029-b3a7-da9fe09623f0",
   "metadata": {},
   "outputs": [],
   "source": [
    "import numpy as np\n",
    "import pandas as pd\n",
    "\n",
    "import seaborn as sns\n",
    "import matplotlib.pyplot as plt\n",
    "pd.set_option('display.max_columns', None)"
   ]
  },
  {
   "cell_type": "markdown",
   "id": "8311254c-7451-4ea6-bfce-98ffea70e0ce",
   "metadata": {},
   "source": [
    "<a id=\"3\"></a>\n",
    "# <div style=\"text-align: left; background-color:#CFD9F1 ; font-family: Trebuchet MS; color: #0A3399; padding: 15px; line-height:1;border-radius:1px; margin-bottom: 0em; text-align: center; font-size: 25px;border-style: solid;border-color: dark green;\">Tìm hiểu về tập dữ liệu 📌</div> "
   ]
  },
  {
   "cell_type": "code",
   "execution_count": 2,
   "id": "03c8b76f-5363-44b7-b2d0-4d1b0e649fe0",
   "metadata": {},
   "outputs": [
    {
     "data": {
      "text/html": [
       "<div>\n",
       "<style scoped>\n",
       "    .dataframe tbody tr th:only-of-type {\n",
       "        vertical-align: middle;\n",
       "    }\n",
       "\n",
       "    .dataframe tbody tr th {\n",
       "        vertical-align: top;\n",
       "    }\n",
       "\n",
       "    .dataframe thead th {\n",
       "        text-align: right;\n",
       "    }\n",
       "</style>\n",
       "<table border=\"1\" class=\"dataframe\">\n",
       "  <thead>\n",
       "    <tr style=\"text-align: right;\">\n",
       "      <th></th>\n",
       "      <th>Id</th>\n",
       "      <th>SepalLengthCm</th>\n",
       "      <th>SepalWidthCm</th>\n",
       "      <th>PetalLengthCm</th>\n",
       "      <th>PetalWidthCm</th>\n",
       "      <th>Species</th>\n",
       "    </tr>\n",
       "  </thead>\n",
       "  <tbody>\n",
       "    <tr>\n",
       "      <th>0</th>\n",
       "      <td>1</td>\n",
       "      <td>5.1</td>\n",
       "      <td>3.5</td>\n",
       "      <td>1.4</td>\n",
       "      <td>0.2</td>\n",
       "      <td>Iris-setosa</td>\n",
       "    </tr>\n",
       "    <tr>\n",
       "      <th>1</th>\n",
       "      <td>2</td>\n",
       "      <td>4.9</td>\n",
       "      <td>3.0</td>\n",
       "      <td>1.4</td>\n",
       "      <td>0.2</td>\n",
       "      <td>Iris-setosa</td>\n",
       "    </tr>\n",
       "    <tr>\n",
       "      <th>2</th>\n",
       "      <td>3</td>\n",
       "      <td>4.7</td>\n",
       "      <td>3.2</td>\n",
       "      <td>1.3</td>\n",
       "      <td>0.2</td>\n",
       "      <td>Iris-setosa</td>\n",
       "    </tr>\n",
       "    <tr>\n",
       "      <th>3</th>\n",
       "      <td>4</td>\n",
       "      <td>4.6</td>\n",
       "      <td>3.1</td>\n",
       "      <td>1.5</td>\n",
       "      <td>0.2</td>\n",
       "      <td>Iris-setosa</td>\n",
       "    </tr>\n",
       "    <tr>\n",
       "      <th>4</th>\n",
       "      <td>5</td>\n",
       "      <td>5.0</td>\n",
       "      <td>3.6</td>\n",
       "      <td>1.4</td>\n",
       "      <td>0.2</td>\n",
       "      <td>Iris-setosa</td>\n",
       "    </tr>\n",
       "  </tbody>\n",
       "</table>\n",
       "</div>"
      ],
      "text/plain": [
       "   Id  SepalLengthCm  SepalWidthCm  PetalLengthCm  PetalWidthCm      Species\n",
       "0   1            5.1           3.5            1.4           0.2  Iris-setosa\n",
       "1   2            4.9           3.0            1.4           0.2  Iris-setosa\n",
       "2   3            4.7           3.2            1.3           0.2  Iris-setosa\n",
       "3   4            4.6           3.1            1.5           0.2  Iris-setosa\n",
       "4   5            5.0           3.6            1.4           0.2  Iris-setosa"
      ]
     },
     "execution_count": 2,
     "metadata": {},
     "output_type": "execute_result"
    }
   ],
   "source": [
    "iris_df = pd.read_csv('Iris.csv')\n",
    "iris_df.head()"
   ]
  },
  {
   "cell_type": "markdown",
   "id": "789f97cf-4f7e-4502-8c4e-864f156a4846",
   "metadata": {},
   "source": [
    "## **<span style=\"color:#0A3399\">1. Xét các hàng và các cột</span>**"
   ]
  },
  {
   "cell_type": "code",
   "execution_count": 4,
   "id": "0f0ce0a5-63d3-4475-9099-bdeb28dcfbbf",
   "metadata": {},
   "outputs": [
    {
     "name": "stdout",
     "output_type": "stream",
     "text": [
      "Dữ liệu có 150 dòng và 6 cột\n"
     ]
    }
   ],
   "source": [
    "n_rows , n_cols = iris_df.shape\n",
    "print(f'Dữ liệu có {n_rows} dòng và {n_cols} cột')"
   ]
  },
  {
   "cell_type": "markdown",
   "id": "d759c899-36ba-4f5c-a16a-d738d48ed423",
   "metadata": {},
   "source": [
    "## **<span style=\"color:#0A3399;\">2. Ý nghĩa của hàng và cột</span>**"
   ]
  },
  {
   "cell_type": "code",
   "execution_count": 5,
   "id": "6d8184d9-d57d-4700-aa98-765e91f7658e",
   "metadata": {},
   "outputs": [
    {
     "data": {
      "text/plain": [
       "Index(['Id', 'SepalLengthCm', 'SepalWidthCm', 'PetalLengthCm', 'PetalWidthCm',\n",
       "       'Species'],\n",
       "      dtype='object')"
      ]
     },
     "execution_count": 5,
     "metadata": {},
     "output_type": "execute_result"
    }
   ],
   "source": [
    "iris_df.columns"
   ]
  },
  {
   "cell_type": "markdown",
   "id": "894750c0-25f9-43f4-8e97-6952615ef602",
   "metadata": {},
   "source": [
    "+ Mỗi hàng là thông tin về một mẫu hoa Iris cụ thể \n",
    "\n",
    "+ Ý nghĩa của từng cột trong dữ liệu được tóm tắt trong bảng sau:\n",
    "\n",
    "| **TÊN CỘT**       | **MÔ TẢ**                                                 | **KIỂU DỮ LIỆU** |\n",
    "|---------------|--------------------------------------------------------|---------------\n",
    "| **`Id`**            | Mã số định danh duy nhất cho mỗi mẫu hoa Iris.        | Số nguyên (Int)     |\n",
    "| **`SepalLengthCm`** | Độ dài của lá đài (sepal) trong đơn vị centimet.     | Số thực (Float)      |\n",
    "| **`SepalWidthCm`**  | Độ rộng của lá đài (sepal) trong đơn vị centimet.    | Số thực (Float)      |\n",
    "| **`PetalLengthCm`** | Độ dài của cánh hoa (petal) trong đơn vị centimet.   | Số thực (Float)     |\n",
    "| **`PetalWidthCm`**  | Độ rộng của cánh hoa (petal) trong đơn vị centimet.  | Số thực (Float)      |\n",
    "| **`Species`**       | Loài của hoa Iris.                                     | Chuỗi (String)       |\n"
   ]
  },
  {
   "cell_type": "markdown",
   "id": "d0a8717f-203b-4569-82f6-53be13f6b2e5",
   "metadata": {},
   "source": [
    "## **<span style=\"color:#0A3399;\">3. Kiểm tra và xử lý trùng lắp dữ liệu</span>**"
   ]
  },
  {
   "cell_type": "code",
   "execution_count": 6,
   "id": "11c30ce9-5fdb-47cf-9cb4-7ab22f4e0134",
   "metadata": {},
   "outputs": [
    {
     "name": "stdout",
     "output_type": "stream",
     "text": [
      "Không có hàng trùng lặp, nghĩa là mỗi hàng trong DataFrame là duy nhất.\n",
      "Vì vậy chúng ta không cần tiếp tục xử lý các dòng trùng lặp\n"
     ]
    }
   ],
   "source": [
    "duplicated_rows = iris_df.duplicated().sum()\n",
    "\n",
    "if duplicated_rows == 0:\n",
    "    print('Không có hàng trùng lặp, nghĩa là mỗi hàng trong DataFrame là duy nhất.')\n",
    "    print('Vì vậy chúng ta không cần tiếp tục xử lý các dòng trùng lặp')\n",
    "else:\n",
    "    print(f'Có {duplicated_rows} hàng trùng lặp chiếm tỷ lệ {np.round(duplicated_rows / iris_df.shape[0] * 100, 2)} % vì vậy nên chúng ta sẽ xóa {duplicated_rows} hàng')\n",
    "    iris_df = iris_df.drop_duplicates()\n",
    "    print(f'Sau khi xóa các hàng trùng lặp, có {iris_df.shape[0]} hàng còn lại')"
   ]
  },
  {
   "cell_type": "markdown",
   "id": "9874457b-30c6-4458-a0bb-f380e2804e8d",
   "metadata": {},
   "source": [
    "## **<span style=\"color:#0A3399;\">4. Xem xét kiểu dữ liệu của các cột</span>**"
   ]
  },
  {
   "cell_type": "markdown",
   "id": "9b89e28d-111b-4331-8762-1f8f60f70867",
   "metadata": {},
   "source": [
    "<div style=\"border-radius:10px;\n",
    "            border :#0A0104 solid;\n",
    "            padding: 15px;\n",
    "            background-color:#FFF0F5 ;\n",
    "           font-size:110%;\n",
    "            text-align: left;\n",
    "            color: black;\">\n",
    "Trong phần này, chúng tôi sẽ kiểm tra các loại dữ liệu hiện tại của từng cột và chuyển đổi chúng thành loại dữ liệu chính xác nếu cần."
   ]
  },
  {
   "cell_type": "markdown",
   "id": "cb5cde4a-810f-4a5b-a266-e23cd2955e38",
   "metadata": {},
   "source": [
    "<h2 style=\"color:#034914 ;font-size: 1em \"><b>Kiểm tra kiểu dữ liệu hiện tại của từng cột"
   ]
  },
  {
   "cell_type": "code",
   "execution_count": 7,
   "id": "25e085fc-bde9-4299-89f6-473e832ae81a",
   "metadata": {},
   "outputs": [
    {
     "data": {
      "text/html": [
       "<div>\n",
       "<style scoped>\n",
       "    .dataframe tbody tr th:only-of-type {\n",
       "        vertical-align: middle;\n",
       "    }\n",
       "\n",
       "    .dataframe tbody tr th {\n",
       "        vertical-align: top;\n",
       "    }\n",
       "\n",
       "    .dataframe thead th {\n",
       "        text-align: right;\n",
       "    }\n",
       "</style>\n",
       "<table border=\"1\" class=\"dataframe\">\n",
       "  <thead>\n",
       "    <tr style=\"text-align: right;\">\n",
       "      <th></th>\n",
       "      <th>Data Type</th>\n",
       "    </tr>\n",
       "  </thead>\n",
       "  <tbody>\n",
       "    <tr>\n",
       "      <th>Id</th>\n",
       "      <td>int64</td>\n",
       "    </tr>\n",
       "    <tr>\n",
       "      <th>SepalLengthCm</th>\n",
       "      <td>float64</td>\n",
       "    </tr>\n",
       "    <tr>\n",
       "      <th>SepalWidthCm</th>\n",
       "      <td>float64</td>\n",
       "    </tr>\n",
       "    <tr>\n",
       "      <th>PetalLengthCm</th>\n",
       "      <td>float64</td>\n",
       "    </tr>\n",
       "    <tr>\n",
       "      <th>PetalWidthCm</th>\n",
       "      <td>float64</td>\n",
       "    </tr>\n",
       "    <tr>\n",
       "      <th>Species</th>\n",
       "      <td>object</td>\n",
       "    </tr>\n",
       "  </tbody>\n",
       "</table>\n",
       "</div>"
      ],
      "text/plain": [
       "              Data Type\n",
       "Id                int64\n",
       "SepalLengthCm   float64\n",
       "SepalWidthCm    float64\n",
       "PetalLengthCm   float64\n",
       "PetalWidthCm    float64\n",
       "Species          object"
      ]
     },
     "execution_count": 7,
     "metadata": {},
     "output_type": "execute_result"
    }
   ],
   "source": [
    "iris_df.dtypes.to_frame('Data Type')"
   ]
  },
  {
   "cell_type": "markdown",
   "id": "9d19c18e-ecf3-475a-acf1-a01a894458e2",
   "metadata": {},
   "source": [
    "<div style=\"border-radius:10px;\n",
    "            border :#0A0104 solid;\n",
    "            padding: 15px;\n",
    "            background-color:#FFF0F5 ;\n",
    "           font-size:110%;\n",
    "            text-align: left;\n",
    "            color: black;\">\n",
    "\n",
    "Kiểu dữ liệu ở các cột đều hợp lý nên chúng ta sẽ di chuyển đến bước kế tiếp."
   ]
  },
  {
   "cell_type": "markdown",
   "id": "599c926d-acb7-434e-b6e4-4175aa0a18d8",
   "metadata": {},
   "source": [
    "## **<span style=\"color:#0A3399;\">5. Xử lý các cột và hàng bị thiếu giá trị</span>**"
   ]
  },
  {
   "cell_type": "markdown",
   "id": "6f19924d-2240-4332-9a7d-c2708d2cb1c7",
   "metadata": {},
   "source": [
    "#### 👉Tỷ lệ thiếu ở các cột"
   ]
  },
  {
   "cell_type": "code",
   "execution_count": 8,
   "id": "fd58c498-6ab3-4675-ab6c-29e01384145a",
   "metadata": {},
   "outputs": [
    {
     "data": {
      "text/html": [
       "<div>\n",
       "<style scoped>\n",
       "    .dataframe tbody tr th:only-of-type {\n",
       "        vertical-align: middle;\n",
       "    }\n",
       "\n",
       "    .dataframe tbody tr th {\n",
       "        vertical-align: top;\n",
       "    }\n",
       "\n",
       "    .dataframe thead th {\n",
       "        text-align: right;\n",
       "    }\n",
       "</style>\n",
       "<table border=\"1\" class=\"dataframe\">\n",
       "  <thead>\n",
       "    <tr style=\"text-align: right;\">\n",
       "      <th></th>\n",
       "      <th>Missing Ratio (%)</th>\n",
       "    </tr>\n",
       "  </thead>\n",
       "  <tbody>\n",
       "  </tbody>\n",
       "</table>\n",
       "</div>"
      ],
      "text/plain": [
       "Empty DataFrame\n",
       "Columns: [Missing Ratio (%)]\n",
       "Index: []"
      ]
     },
     "execution_count": 8,
     "metadata": {},
     "output_type": "execute_result"
    }
   ],
   "source": [
    "missing_dict = {}\n",
    "\n",
    "for col in iris_df.columns:\n",
    "    if type(iris_df[col].iloc[0]) == list:\n",
    "        missing_dict[col] = iris_df[col].apply(lambda x: len(x) == 0).sum() / iris_df.shape[0] * 100\n",
    "    else:\n",
    "        missing_dict[col] = iris_df[col].isna().sum() / iris_df.shape[0] * 100\n",
    "        \n",
    "missing_df = pd.DataFrame({'Missing Ratio (%)': missing_dict})\n",
    "missing_df = missing_df.sort_values(by='Missing Ratio (%)', ascending=False)\n",
    "missing_df = missing_df[missing_df['Missing Ratio (%)'] > 0]\n",
    "missing_df"
   ]
  },
  {
   "cell_type": "markdown",
   "id": "280fee27-11d4-43cc-94c4-f46afd02d632",
   "metadata": {},
   "source": [
    "<div style=\"border-radius:10px;\n",
    "            border :#0A0104 solid;\n",
    "            padding: 15px;\n",
    "            background-color:#FFF0F5 ;\n",
    "           font-size:110%;\n",
    "            text-align: left;\n",
    "            color: black;\">\n",
    "\n",
    "Tập dữ liệu Iris **không thiếu thông tin ở bất kỳ cột nào**. Điều này có nghĩa là mỗi mẫu hoa Iris trong tập dữ liệu đều có đầy đủ thông tin về độ dài và độ rộng của lá đài (sepal), độ dài và độ rộng của cánh hoa (petal), và loài hoa Iris tương ứng. Điều này giúp đảm bảo tính toàn vẹn của dữ liệu và thuận lợi cho quá trình phân tích và khai thác thông tin từ tập dữ liệu."
   ]
  },
  {
   "cell_type": "markdown",
   "id": "e689edb4-ca80-4f6c-ae4c-ceccc6b77894",
   "metadata": {},
   "source": [
    "#### 👉Tỷ lệ thiếu ở các hàng"
   ]
  },
  {
   "cell_type": "code",
   "execution_count": 9,
   "id": "034cc789-aaba-4790-a032-cb1868dec48a",
   "metadata": {},
   "outputs": [
    {
     "data": {
      "text/html": [
       "<div>\n",
       "<style scoped>\n",
       "    .dataframe tbody tr th:only-of-type {\n",
       "        vertical-align: middle;\n",
       "    }\n",
       "\n",
       "    .dataframe tbody tr th {\n",
       "        vertical-align: top;\n",
       "    }\n",
       "\n",
       "    .dataframe thead th {\n",
       "        text-align: right;\n",
       "    }\n",
       "</style>\n",
       "<table border=\"1\" class=\"dataframe\">\n",
       "  <thead>\n",
       "    <tr style=\"text-align: right;\">\n",
       "      <th></th>\n",
       "      <th>Number of Rows</th>\n",
       "      <th>Percentage</th>\n",
       "    </tr>\n",
       "    <tr>\n",
       "      <th>Number of Missing Values</th>\n",
       "      <th></th>\n",
       "      <th></th>\n",
       "    </tr>\n",
       "  </thead>\n",
       "  <tbody>\n",
       "    <tr>\n",
       "      <th>0</th>\n",
       "      <td>150</td>\n",
       "      <td>100.0</td>\n",
       "    </tr>\n",
       "  </tbody>\n",
       "</table>\n",
       "</div>"
      ],
      "text/plain": [
       "                          Number of Rows  Percentage\n",
       "Number of Missing Values                            \n",
       "0                                    150       100.0"
      ]
     },
     "execution_count": 9,
     "metadata": {},
     "output_type": "execute_result"
    }
   ],
   "source": [
    "number_missing_per_row = iris_df.isna().sum(axis=1)\n",
    "missing_per_row_df = pd.DataFrame({'Number of Rows': number_missing_per_row.value_counts().sort_index()})\n",
    "missing_per_row_df.index.name = 'Number of Missing Values'\n",
    "missing_per_row_df['Percentage'] = (missing_per_row_df['Number of Rows'] / iris_df.shape[0] * 100).round(2)\n",
    "missing_per_row_df"
   ]
  },
  {
   "cell_type": "markdown",
   "id": "a2abb6f2-c10f-4f1f-a664-72dee38621f2",
   "metadata": {},
   "source": [
    "<div style=\"border-radius:10px;\n",
    "            border :#0A0104 solid;\n",
    "            padding: 15px;\n",
    "            background-color:#FFF0F5 ;\n",
    "           font-size:110%;\n",
    "            text-align: left;\n",
    "            color: black;\">\n",
    "\n",
    "Mỗi dòng trong tập dữ liệu đều có đầy đủ các cột và không bị thiếu"
   ]
  },
  {
   "cell_type": "markdown",
   "id": "aea5f76f-11a9-44af-bc67-aac0be7a0276",
   "metadata": {},
   "source": [
    "<a id=\"4\"></a>\n",
    "# <div style=\"text-align: left; background-color:#CFD9F1 ; font-family: Trebuchet MS; color: #0A3399; padding: 15px; line-height:1;border-radius:1px; margin-bottom: 0em; text-align: center; font-size: 25px;border-style: solid;border-color: dark green;\">Phân tích và khám phá dữ liệu 1D 📊</div> "
   ]
  },
  {
   "cell_type": "markdown",
   "id": "90ee24bc-81c7-437d-8735-fb13c8de3e38",
   "metadata": {},
   "source": [
    "<div style=\"border-radius:10px;\n",
    "            border :#0A0104 solid;\n",
    "            padding: 15px;\n",
    "            background-color:#FFF0F5 ;\n",
    "           font-size:110%;\n",
    "            text-align: left;\n",
    "            color: black;\">\n",
    "Để khám phá sự phân bố của các cột, chúng ta sẽ làm theo các bước sau:\n",
    "\n",
    "- Cột số:\n",
    "     - Tính toán và giải thích **số liệu thống kê tóm tắt** của các cột\n",
    "     - Vẽ **biểu đồ** để hiểu rõ hơn về sự phân bố của các cột\n",
    "\n",
    "- Các cột không phải kiểu số:\n",
    "     - Tính số **giá trị duy nhất** trong mỗi cột\n",
    "     - Vẽ **biểu đồ** để hiểu rõ hơn về sự phân bố của các cột"
   ]
  },
  {
   "cell_type": "markdown",
   "id": "ce27c55b-5cdd-4885-8d07-060aa75e9c62",
   "metadata": {},
   "source": [
    "<a id=\"4.1\"></a>\n",
    "## **<span style=\"color:#0A3399;\">1. Các cột kiểu số</span>**"
   ]
  },
  {
   "cell_type": "markdown",
   "id": "597e9ab5-c0e9-4aef-8c38-b1f6a3edc380",
   "metadata": {},
   "source": [
    "<div style=\"border-radius:10px;\n",
    "            border :#0A0104 solid;\n",
    "            padding: 15px;\n",
    "            background-color:#FFF0F5 ;\n",
    "           font-size:110%;\n",
    "            text-align: left;\n",
    "            color: black;\">\n",
    "Đối với các cột có kiểu dữ liệu số, chúng ta sẽ tính:\n",
    "\n",
    "- Tỷ lệ phần trăm (từ 0 đến 100) giá trị bị thiếu\n",
    "- Tối thiểu\n",
    "- Tứ phân vị dưới\n",
    "- Trung vị\n",
    "- Tứ phân vị trên\n",
    "- Tối đa\n",
    "\n",
    "Chúng ta sẽ lưu kết quả vào DataFrame `num_col_dist_df`, trong đó:\n",
    "- Tên các cột là tên các cột số trong `data`\n",
    "- Tên các hàng: `missing_ratio`, `min`, `low_quartile`, `median`, `upper_quartile`, `max`"
   ]
  },
  {
   "cell_type": "code",
   "execution_count": 10,
   "id": "f75ae651-e7c9-49ed-b3b2-13dd5fbc9931",
   "metadata": {},
   "outputs": [
    {
     "data": {
      "text/html": [
       "<div>\n",
       "<style scoped>\n",
       "    .dataframe tbody tr th:only-of-type {\n",
       "        vertical-align: middle;\n",
       "    }\n",
       "\n",
       "    .dataframe tbody tr th {\n",
       "        vertical-align: top;\n",
       "    }\n",
       "\n",
       "    .dataframe thead th {\n",
       "        text-align: right;\n",
       "    }\n",
       "</style>\n",
       "<table border=\"1\" class=\"dataframe\">\n",
       "  <thead>\n",
       "    <tr style=\"text-align: right;\">\n",
       "      <th></th>\n",
       "      <th>Id</th>\n",
       "      <th>SepalLengthCm</th>\n",
       "      <th>SepalWidthCm</th>\n",
       "      <th>PetalLengthCm</th>\n",
       "      <th>PetalWidthCm</th>\n",
       "    </tr>\n",
       "  </thead>\n",
       "  <tbody>\n",
       "    <tr>\n",
       "      <th>count</th>\n",
       "      <td>150.00</td>\n",
       "      <td>150.00</td>\n",
       "      <td>150.00</td>\n",
       "      <td>150.00</td>\n",
       "      <td>150.00</td>\n",
       "    </tr>\n",
       "    <tr>\n",
       "      <th>mean</th>\n",
       "      <td>75.50</td>\n",
       "      <td>5.84</td>\n",
       "      <td>3.05</td>\n",
       "      <td>3.76</td>\n",
       "      <td>1.20</td>\n",
       "    </tr>\n",
       "    <tr>\n",
       "      <th>std</th>\n",
       "      <td>43.45</td>\n",
       "      <td>0.83</td>\n",
       "      <td>0.43</td>\n",
       "      <td>1.76</td>\n",
       "      <td>0.76</td>\n",
       "    </tr>\n",
       "    <tr>\n",
       "      <th>min</th>\n",
       "      <td>1.00</td>\n",
       "      <td>4.30</td>\n",
       "      <td>2.00</td>\n",
       "      <td>1.00</td>\n",
       "      <td>0.10</td>\n",
       "    </tr>\n",
       "    <tr>\n",
       "      <th>25%</th>\n",
       "      <td>38.25</td>\n",
       "      <td>5.10</td>\n",
       "      <td>2.80</td>\n",
       "      <td>1.60</td>\n",
       "      <td>0.30</td>\n",
       "    </tr>\n",
       "    <tr>\n",
       "      <th>50%</th>\n",
       "      <td>75.50</td>\n",
       "      <td>5.80</td>\n",
       "      <td>3.00</td>\n",
       "      <td>4.35</td>\n",
       "      <td>1.30</td>\n",
       "    </tr>\n",
       "    <tr>\n",
       "      <th>75%</th>\n",
       "      <td>112.75</td>\n",
       "      <td>6.40</td>\n",
       "      <td>3.30</td>\n",
       "      <td>5.10</td>\n",
       "      <td>1.80</td>\n",
       "    </tr>\n",
       "    <tr>\n",
       "      <th>max</th>\n",
       "      <td>150.00</td>\n",
       "      <td>7.90</td>\n",
       "      <td>4.40</td>\n",
       "      <td>6.90</td>\n",
       "      <td>2.50</td>\n",
       "    </tr>\n",
       "    <tr>\n",
       "      <th>missing ratios</th>\n",
       "      <td>0.00</td>\n",
       "      <td>0.00</td>\n",
       "      <td>0.00</td>\n",
       "      <td>0.00</td>\n",
       "      <td>0.00</td>\n",
       "    </tr>\n",
       "  </tbody>\n",
       "</table>\n",
       "</div>"
      ],
      "text/plain": [
       "                    Id  SepalLengthCm  SepalWidthCm  PetalLengthCm  \\\n",
       "count           150.00         150.00        150.00         150.00   \n",
       "mean             75.50           5.84          3.05           3.76   \n",
       "std              43.45           0.83          0.43           1.76   \n",
       "min               1.00           4.30          2.00           1.00   \n",
       "25%              38.25           5.10          2.80           1.60   \n",
       "50%              75.50           5.80          3.00           4.35   \n",
       "75%             112.75           6.40          3.30           5.10   \n",
       "max             150.00           7.90          4.40           6.90   \n",
       "missing ratios    0.00           0.00          0.00           0.00   \n",
       "\n",
       "                PetalWidthCm  \n",
       "count                 150.00  \n",
       "mean                    1.20  \n",
       "std                     0.76  \n",
       "min                     0.10  \n",
       "25%                     0.30  \n",
       "50%                     1.30  \n",
       "75%                     1.80  \n",
       "max                     2.50  \n",
       "missing ratios          0.00  "
      ]
     },
     "execution_count": 10,
     "metadata": {},
     "output_type": "execute_result"
    }
   ],
   "source": [
    "numeric_cols = iris_df.select_dtypes(exclude=['object']).columns\n",
    "num_col_dist_df = iris_df[numeric_cols].copy()\n",
    "missing_percentage = num_col_dist_df.isna().mean() * 100\n",
    "\n",
    "num_col_dist_df = num_col_dist_df.describe(percentiles=[.25, .5, .75]).round(2)\n",
    "num_col_dist_df.loc['missing ratios'] = missing_percentage\n",
    "\n",
    "num_col_dist_df"
   ]
  },
  {
   "cell_type": "code",
   "execution_count": null,
   "id": "ed408f03-95a5-46bf-a513-aaaea6667476",
   "metadata": {},
   "outputs": [],
   "source": []
  }
 ],
 "metadata": {
  "kernelspec": {
   "display_name": "Python 3 (ipykernel)",
   "language": "python",
   "name": "python3"
  },
  "language_info": {
   "codemirror_mode": {
    "name": "ipython",
    "version": 3
   },
   "file_extension": ".py",
   "mimetype": "text/x-python",
   "name": "python",
   "nbconvert_exporter": "python",
   "pygments_lexer": "ipython3",
   "version": "3.10.8"
  }
 },
 "nbformat": 4,
 "nbformat_minor": 5
}
